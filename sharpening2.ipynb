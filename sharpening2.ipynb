{
 "cells": [
  {
   "cell_type": "code",
   "execution_count": 35,
   "metadata": {},
   "outputs": [
    {
     "data": {
      "text/plain": [
       "True"
      ]
     },
     "execution_count": 35,
     "metadata": {},
     "output_type": "execute_result"
    }
   ],
   "source": [
    "#%% Smoothing Filtering\n",
    "import numpy as np\n",
    "import cv2\n",
    "import matplotlib.pyplot as plt\n",
    "\n",
    "img=cv2.imread('Kids_park.jpeg')\n",
    "img=cv2.cvtColor(img, cv2.COLOR_BGR2GRAY)\n",
    "img_moving_avg = cv2.GaussianBlur(img, (9, 9),0)\n",
    "cv2.imwrite('Gauss.jpg',img_moving_avg)\n",
    "kernel = cv2.getGaussianKernel(9, 0)\n",
    "kernel = kernel * kernel.T\n",
    "\n",
    "laplacian_img = cv2.Laplacian(img_moving_avg, cv2.CV_64F)\n",
    "\n",
    "laplacian = cv2.filter2D(laplacian_img,-1,kernel)\n",
    "\n",
    "sobelx_img = cv2.Sobel(img_moving_avg, cv2.CV_64F, 1, 0, ksize=5)\n",
    "sobely_img = cv2.Sobel(img_moving_avg, cv2.CV_64F, 0, 1, ksize=5)\n",
    "sobel_img = np.sqrt(sobelx_img**2 + sobely_img**2)\n",
    "sobel = cv2.filter2D(sobel_img,-1,kernel)\n",
    "\n",
    "gaussian_img = cv2.GaussianBlur(img_moving_avg, (5, 5), 0)\n",
    "usm_img = cv2.addWeighted(img_moving_avg, 1.5, gaussian_img, -0.5, 0)\n",
    "\n",
    "canny_img = cv2.Canny(img_moving_avg, 100, 200)\n",
    "canny = cv2.filter2D(canny_img,-1,kernel)\n",
    "\n",
    "cv2.imwrite('laplacian_b.jpg',laplacian)\n",
    "\n",
    "cv2.imwrite('sobel_b.jpg',sobel)\n",
    "\n",
    "cv2.imwrite('usm_b.jpg',usm_img)\n",
    "\n",
    "cv2.imwrite('canny_b.jpg',canny)"
   ]
  },
  {
   "cell_type": "code",
   "execution_count": 40,
   "metadata": {},
   "outputs": [
    {
     "data": {
      "text/plain": [
       "6.321183655389792"
      ]
     },
     "execution_count": 40,
     "metadata": {},
     "output_type": "execute_result"
    }
   ],
   "source": [
    "import cv2\n",
    "import numpy as np\n",
    "\n",
    "def psnr(img1, img2):\n",
    "    mse = np.mean((img1 - img2) ** 2)\n",
    "    PIXEL_MAX = 255.0\n",
    "    return 20 * np.log10(PIXEL_MAX / np.sqrt(mse))\n",
    "\n",
    "img1 = cv2.imread('Gauss.jpg')\n",
    "img2 = cv2.imread('laplacian_b.jpg')\n",
    "\n",
    "lpsnr = cv2.PSNR(img1, img2)\n",
    "\n",
    "lapsnr= psnr(img1, img2)\n",
    "lpsnr"
   ]
  },
  {
   "cell_type": "code",
   "execution_count": 30,
   "metadata": {},
   "outputs": [
    {
     "data": {
      "text/plain": [
       "27.827807515701192"
      ]
     },
     "execution_count": 30,
     "metadata": {},
     "output_type": "execute_result"
    }
   ],
   "source": [
    "img1 = cv2.imread('Gauss.jpg')\n",
    "img2 = cv2.imread('sobel_noax.jpg')\n",
    "\n",
    "sopsnr= psnr(img1, img2)\n",
    "sopsnr"
   ]
  },
  {
   "cell_type": "code",
   "execution_count": 31,
   "metadata": {},
   "outputs": [
    {
     "data": {
      "text/plain": [
       "47.23146348533188"
      ]
     },
     "execution_count": 31,
     "metadata": {},
     "output_type": "execute_result"
    }
   ],
   "source": [
    "img1 = cv2.imread('Gauss.jpg')\n",
    "img2 = cv2.imread('usm_noax.jpg')\n",
    "\n",
    "usmpsnr= psnr(img1, img2)\n",
    "usmpsnr"
   ]
  },
  {
   "cell_type": "code",
   "execution_count": 32,
   "metadata": {},
   "outputs": [
    {
     "data": {
      "text/plain": [
       "27.75227453028033"
      ]
     },
     "execution_count": 32,
     "metadata": {},
     "output_type": "execute_result"
    }
   ],
   "source": [
    "img1 = cv2.imread('Gauss.jpg')\n",
    "img2 = cv2.imread('canny_noax.jpg')\n",
    "\n",
    "capsnr= psnr(img1, img2)\n",
    "capsnr"
   ]
  },
  {
   "cell_type": "code",
   "execution_count": 42,
   "metadata": {},
   "outputs": [
    {
     "data": {
      "image/png": "[encoded data removed]",
      "text/plain": [
       "<Figure size 640x480 with 1 Axes>"
      ]
     },
     "metadata": {},
     "output_type": "display_data"
    }
   ],
   "source": [
    "#PSNR low pass-band pass 그래프\n",
    "plt.plot(lpsnr,marker='o',c='darkcyan',label='Laplacian') #파란색 그래프\n",
    "'''\n",
    "plt.plot(sopsnr, marker='D',c='darkmagenta',label='Sobel')\n",
    "plt.plot(usmpsnr, marker='+',c='darkred',label='USM')\n",
    "plt.plot(capsnr, marker='x',c='darkblue',label='Canny') #주황색 그래프\n",
    "'''\n",
    "plt.legend(shadow=False, fancybox=False, loc='upper right')\n",
    "plt.title('PSNR'),plt.xlabel('bins'),plt.ylabel('conunt')\n",
    "plt.tight_layout()\n",
    "#plt.savefig('PSNR_sharp.jpg')\n",
    "plt.show()"
   ]
  },
  {
   "cell_type": "code",
   "execution_count": null,
   "metadata": {},
   "outputs": [],
   "source": []
  }
 ],
 "metadata": {
  "kernelspec": {
   "display_name": "oliv",
   "language": "python",
   "name": "python3"
  },
  "language_info": {
   "codemirror_mode": {
    "name": "ipython",
    "version": 3
   },
   "file_extension": ".py",
   "mimetype": "text/x-python",
   "name": "python",
   "nbconvert_exporter": "python",
   "pygments_lexer": "ipython3",
   "version": "3.9.16"
  },
  "orig_nbformat": 4
 },
 "nbformat": 4,
 "nbformat_minor": 2
}
