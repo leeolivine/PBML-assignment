{
 "cells": [
  {
   "cell_type": "code",
   "execution_count": 35,
   "metadata": {},
   "outputs": [
    {
     "data": {
      "text/plain": [
       "True"
      ]
     },
     "execution_count": 35,
     "metadata": {},
     "output_type": "execute_result"
    }
   ],
   "source": [
    "#%% Smoothing Filtering\n",
    "import numpy as np\n",
    "import cv2\n",
    "import matplotlib.pyplot as plt\n",
    "\n",
    "img=cv2.imread('Kids_park.jpeg')\n",
    "img=cv2.cvtColor(img, cv2.COLOR_BGR2GRAY)\n",
    "img_moving_avg = cv2.GaussianBlur(img, (9, 9),0)\n",
    "cv2.imwrite('Gauss.jpg',img_moving_avg)\n",
    "kernel = cv2.getGaussianKernel(9, 0)\n",
    "kernel = kernel * kernel.T\n",
    "\n",
    "laplacian_img = cv2.Laplacian(img_moving_avg, cv2.CV_64F)\n",
    "\n",
    "laplacian = cv2.filter2D(laplacian_img,-1,kernel)\n",
    "\n",
    "sobelx_img = cv2.Sobel(img_moving_avg, cv2.CV_64F, 1, 0, ksize=5)\n",
    "sobely_img = cv2.Sobel(img_moving_avg, cv2.CV_64F, 0, 1, ksize=5)\n",
    "sobel_img = np.sqrt(sobelx_img**2 + sobely_img**2)\n",
    "sobel = cv2.filter2D(sobel_img,-1,kernel)\n",
    "\n",
    "gaussian_img = cv2.GaussianBlur(img_moving_avg, (5, 5), 0)\n",
    "usm_img = cv2.addWeighted(img_moving_avg, 1.5, gaussian_img, -0.5, 0)\n",
    "\n",
    "canny_img = cv2.Canny(img_moving_avg, 100, 200)\n",
    "canny = cv2.filter2D(canny_img,-1,kernel)\n",
    "\n",
    "cv2.imwrite('laplacian_b.jpg',laplacian)\n",
    "\n",
    "cv2.imwrite('sobel_b.jpg',sobel)\n",
    "\n",
    "cv2.imwrite('usm_b.jpg',usm_img)\n",
    "\n",
    "cv2.imwrite('canny_b.jpg',canny)"
   ]
  },
  {
   "cell_type": "code",
   "execution_count": 40,
   "metadata": {},
   "outputs": [
    {
     "data": {
      "text/plain": [
       "6.321183655389792"
      ]
     },
     "execution_count": 40,
     "metadata": {},
     "output_type": "execute_result"
    }
   ],
   "source": [
    "import cv2\n",
    "import numpy as np\n",
    "\n",
    "def psnr(img1, img2):\n",
    "    mse = np.mean((img1 - img2) ** 2)\n",
    "    PIXEL_MAX = 255.0\n",
    "    return 20 * np.log10(PIXEL_MAX / np.sqrt(mse))\n",
    "\n",
    "img1 = cv2.imread('Gauss.jpg')\n",
    "img2 = cv2.imread('laplacian_b.jpg')\n",
    "\n",
    "lpsnr = cv2.PSNR(img1, img2)\n",
    "\n",
    "lapsnr= psnr(img1, img2)\n",
    "lpsnr"
   ]
  },
  {
   "cell_type": "code",
   "execution_count": 30,
   "metadata": {},
   "outputs": [
    {
     "data": {
      "text/plain": [
       "27.827807515701192"
      ]
     },
     "execution_count": 30,
     "metadata": {},
     "output_type": "execute_result"
    }
   ],
   "source": [
    "img1 = cv2.imread('Gauss.jpg')\n",
    "img2 = cv2.imread('sobel_noax.jpg')\n",
    "\n",
    "sopsnr= psnr(img1, img2)\n",
    "sopsnr"
   ]
  },
  {
   "cell_type": "code",
   "execution_count": 31,
   "metadata": {},
   "outputs": [
    {
     "data": {
      "text/plain": [
       "47.23146348533188"
      ]
     },
     "execution_count": 31,
     "metadata": {},
     "output_type": "execute_result"
    }
   ],
   "source": [
    "img1 = cv2.imread('Gauss.jpg')\n",
    "img2 = cv2.imread('usm_noax.jpg')\n",
    "\n",
    "usmpsnr= psnr(img1, img2)\n",
    "usmpsnr"
   ]
  },
  {
   "cell_type": "code",
   "execution_count": 32,
   "metadata": {},
   "outputs": [
    {
     "data": {
      "text/plain": [
       "27.75227453028033"
      ]
     },
     "execution_count": 32,
     "metadata": {},
     "output_type": "execute_result"
    }
   ],
   "source": [
    "img1 = cv2.imread('Gauss.jpg')\n",
    "img2 = cv2.imread('canny_noax.jpg')\n",
    "\n",
    "capsnr= psnr(img1, img2)\n",
    "capsnr"
   ]
  },
  {
   "cell_type": "code",
   "execution_count": 42,
   "metadata": {},
   "outputs": [
    {
     "data": {
      "image/png": "[encoded data removed]",
      "text/plain": [
       "<Figure size 640x480 with 1 Axes>"
      ]
     },
     "metadata": {},
     "output_type": "display_data"
    }
   ],
   "source": [
    "#PSNR low pass-band pass 그래프\n",
    "plt.plot(lpsnr,marker='o',c='darkcyan',label='Laplacian') #파란색 그래프\n",
    "'''\n",
    "plt.plot(sopsnr, marker='D',c='darkmagenta',label='Sobel')\n",
    "plt.plot(usmpsnr, marker='+',c='darkred',label='USM')\n",
    "plt.plot(capsnr, marker='x',c='darkblue',label='Canny') #주황색 그래프\n",
    "'''\n",
    "plt.legend(shadow=False, fancybox=False, loc='upper right')\n",
    "plt.title('PSNR'),plt.xlabel('bins'),plt.ylabel('conunt')\n",
    "plt.tight_layout()\n",
    "#plt.savefig('PSNR_sharp.jpg')\n",
    "plt.show()"
   ]
  },
  {
   "cell_type": "code",
   "execution_count": 2,
   "metadata": {},
   "outputs": [],
   "source": [
    "import numpy as np\n",
    "import cv2\n",
    "import matplotlib.pyplot as plt\n",
    "from skimage.metrics import structural_similarity as compare_ssim\n",
    "\n",
    "def detect_edges(image, low_threshold=100, high_threshold=200):\n",
    "    image_8bit = cv2.convertScaleAbs(image)\n",
    "    return cv2.Canny(image_8bit, low_threshold, high_threshold)\n",
    "\n",
    "# Read the original image\n",
    "original_image_gray = cv2.imread('Kids_park.jpeg', cv2.IMREAD_GRAYSCALE)\n",
    "\n",
    "# Apply Laplacian, Sobel, USM, and Canny filters to the original grayscale image\n",
    "\n",
    "\n",
    "sigma = [3,5,7,9,11]\n",
    "la, so, us, ca = [], [], [], []\n",
    "psla,psso,psus,psca=[],[],[],[]\n",
    "\n",
    "for i in sigma:\n",
    "    gaus_img=cv2.GaussianBlur(original_image_gray,(i,i), 0)\n",
    "    # Apply Gaussian blur with different sigma values to the filtered images\n",
    "    sobelx_img = cv2.Sobel(np.uint8(gaus_img), cv2.CV_64F, 1, 0, ksize=5)\n",
    "    sobely_img = cv2.Sobel(np.uint8(gaus_img), cv2.CV_64F, 0, 1, ksize=5)\n",
    "    sobelx_abs = cv2.convertScaleAbs(sobelx_img)\n",
    "    sobely_abs = cv2.convertScaleAbs(sobely_img)\n",
    "    gaus_sob = cv2.addWeighted(sobelx_abs, 0.5, sobely_abs, 0.5, 0)\n",
    "    gaussian_img = cv2.GaussianBlur(gaus_img, (5, 5), 0)\n",
    "    gaus_usm = cv2.addWeighted(gaus_img, 1.5, gaussian_img, -0.5, 0)\n",
    "    gaus_can  = cv2.Canny(gaus_img, 100, 200)\n",
    "    gaus_lap =cv2.Laplacian(gaus_img, cv2.CV_64F)\n",
    "\n",
    "    # Detect edges in the original and sharpened images\n",
    "    original_edges = detect_edges(original_image_gray)\n",
    "    sharpened_edges_lap = detect_edges(gaus_lap)\n",
    "    sharpened_edges_sob = detect_edges(gaus_sob)\n",
    "    sharpened_edges_usm = detect_edges(gaus_usm)\n",
    "    sharpened_edges_can = detect_edges(gaus_can)\n",
    "\n",
    "    # Calculate the SSIM between the edges of the original and sharpened images\n",
    "    ssim_edges_lap = compare_ssim(original_edges, sharpened_edges_lap)\n",
    "    ssim_edges_sob = compare_ssim(original_edges, sharpened_edges_sob)\n",
    "    ssim_edges_usm = compare_ssim(original_edges, sharpened_edges_usm)\n",
    "    ssim_edges_can = compare_ssim(original_edges, sharpened_edges_can)\n",
    "    \n",
    "    psnr_edges_lap = cv2.PSNR(original_edges, sharpened_edges_lap)\n",
    "    psnr_edges_sob = cv2.PSNR(original_edges, sharpened_edges_sob)\n",
    "    psnr_edges_usm = cv2.PSNR(original_edges, sharpened_edges_usm)\n",
    "    psnr_edges_can = cv2.PSNR(original_edges, sharpened_edges_can)\n",
    "\n",
    "    la.append(ssim_edges_lap)\n",
    "    so.append(ssim_edges_sob)\n",
    "    us.append(ssim_edges_usm)\n",
    "    ca.append(ssim_edges_can)\n",
    "    psla.append(psnr_edges_lap)\n",
    "    psso.append(psnr_edges_sob)\n",
    "    psus.append(psnr_edges_usm)\n",
    "    psca.append(psnr_edges_can)"
   ]
  },
  {
   "cell_type": "code",
   "execution_count": 7,
   "metadata": {},
   "outputs": [
    {
     "data": {
      "image/png": "[encoded data removed]",
      "text/plain": [
       "<Figure size 640x480 with 1 Axes>"
      ]
     },
     "metadata": {},
     "output_type": "display_data"
    }
   ],
   "source": [
    "import matplotlib.pyplot as plt\n",
    "sigma = [3,11,19,27,35]\n",
    "\n",
    "plt.plot(sigma,la,linestyle='-',marker='o',c='darkcyan',label='Laplacian') #파란색 그래프\n",
    "plt.plot(sigma,so,linestyle='-',marker='D',c='darkmagenta',label='Sobel')\n",
    "plt.plot(sigma,us,linestyle='-',marker='*',c='darkred',label='USM') \n",
    "plt.plot(sigma,ca,linestyle='-',marker='s',c='darkblue',label='Canny') #주황색 그래프\n",
    "plt.legend(shadow=False, fancybox=False, loc='upper right')\n",
    "plt.title('SSIM'),plt.xlabel('bins'),plt.ylabel('conunt')\n",
    "plt.tight_layout()\n",
    "plt.show()"
   ]
  },
  {
   "cell_type": "code",
   "execution_count": 33,
   "metadata": {},
   "outputs": [
    {
     "data": {
      "text/plain": [
       "True"
      ]
     },
     "execution_count": 33,
     "metadata": {},
     "output_type": "execute_result"
    }
   ],
   "source": [
    "original_image_gray = cv2.imread('Kids_park.jpeg', cv2.IMREAD_GRAYSCALE)\n",
    "gaus_img_3=cv2.GaussianBlur(original_image_gray,(3,3), 0)\n",
    "cv2.imwrite('Gauss_3.jpg',gaus_img_3)\n",
    "gaus_img_11=cv2.GaussianBlur(original_image_gray,(5,5), 0)\n",
    "cv2.imwrite('Gauss_5.jpg',gaus_img_11)\n",
    "gaus_img_19=cv2.GaussianBlur(original_image_gray,(7,7), 0)\n",
    "cv2.imwrite('Gauss_7.jpg',gaus_img_19)\n",
    "gaus_img_27=cv2.GaussianBlur(original_image_gray,(9,9), 0)\n",
    "cv2.imwrite('Gauss_9.jpg',gaus_img_27)\n",
    "gaus_img_35=cv2.GaussianBlur(original_image_gray,(11,11), 0)\n",
    "cv2.imwrite('Gauss_11.jpg',gaus_img_35)"
   ]
  },
  {
   "cell_type": "code",
   "execution_count": 34,
   "metadata": {},
   "outputs": [
    {
     "data": {
      "text/plain": [
       "True"
      ]
     },
     "execution_count": 34,
     "metadata": {},
     "output_type": "execute_result"
    }
   ],
   "source": [
    "gaus_lap_3 =cv2.Laplacian(gaus_img_3, cv2.CV_64F)\n",
    "cv2.imwrite('la_3.jpg',gaus_lap_3)\n",
    "gaus_lap_11 =cv2.Laplacian(gaus_img_11, cv2.CV_64F)\n",
    "cv2.imwrite('la_11.jpg',gaus_lap_11)\n",
    "gaus_lap_19 =cv2.Laplacian(gaus_img_19, cv2.CV_64F)\n",
    "cv2.imwrite('la_19.jpg',gaus_lap_19)\n",
    "gaus_lap_27 =cv2.Laplacian(gaus_img_27, cv2.CV_64F)\n",
    "cv2.imwrite('la_27.jpg',gaus_lap_27)\n",
    "gaus_lap_35 =cv2.Laplacian(gaus_img_35, cv2.CV_64F)\n",
    "cv2.imwrite('la_35.jpg',gaus_lap_35)"
   ]
  },
  {
   "cell_type": "code",
   "execution_count": 45,
   "metadata": {},
   "outputs": [],
   "source": [
    "import numpy as np\n",
    "\n",
    "la=[]\n",
    "\n",
    "def rmse(predictions, targets):\n",
    "    \"\"\"\n",
    "    Compute Root Mean Square Error (RMSE) between predictions and targets.\n",
    "\n",
    "    Parameters:\n",
    "    predictions (numpy.array or list): Output data from filter 1\n",
    "    targets (numpy.array or list): Output data from filter 2\n",
    "\n",
    "    Returns:\n",
    "    float: The RMSE value\n",
    "    \"\"\"\n",
    "    predictions = np.array(predictions)\n",
    "    targets = np.array(targets)\n",
    "\n",
    "    if predictions.shape != targets.shape:\n",
    "        raise ValueError(\"The shape of predictions and targets must be the same.\")\n",
    "\n",
    "    return np.sqrt(np.mean((predictions - targets) ** 2))\n",
    "\n",
    "\n",
    "original_edges = detect_edges(original_image_gray)\n",
    "cv2.imwrite('ori.jpg',original_edges)\n",
    "sharpened_edges_lap_3 = detect_edges(gaus_lap_3)\n",
    "cv2.imwrite('sel3.jpg',sharpened_edges_lap)\n",
    "ssim_edges_lap = rmse(original_edges, sharpened_edges_lap)\n",
    "la.append(ssim_edges_lap)\n",
    "\n",
    "sharpened_edges_lap = detect_edges(gaus_lap_11)\n",
    "cv2.imwrite('sel11.jpg',sharpened_edges_lap)\n",
    "ssim_edges_lap = rmse(original_edges, sharpened_edges_lap)\n",
    "la.append(ssim_edges_lap)\n",
    "\n",
    "sharpened_edges_lap = detect_edges(gaus_lap_19)\n",
    "cv2.imwrite('sel19.jpg',sharpened_edges_lap)\n",
    "ssim_edges_lap = rmse(original_edges, sharpened_edges_lap)\n",
    "la.append(ssim_edges_lap)\n",
    "\n",
    "sharpened_edges_lap = detect_edges(gaus_lap_27)\n",
    "cv2.imwrite('sel27.jpg',sharpened_edges_lap)\n",
    "ssim_edges_lap = rmse(original_edges, sharpened_edges_lap)\n",
    "la.append(ssim_edges_lap)\n",
    "\n",
    "sharpened_edges_lap = detect_edges(gaus_lap_35)\n",
    "cv2.imwrite('sel35.jpg',sharpened_edges_lap)\n",
    "ssim_edges_lap = rmse(original_edges, sharpened_edges_lap)\n",
    "la.append(ssim_edges_lap)"
   ]
  },
  {
   "cell_type": "code",
   "execution_count": 44,
   "metadata": {},
   "outputs": [
    {
     "data": {
      "text/plain": [
       "[0.3231350192929672,\n",
       " 0.31074415955717793,\n",
       " 0.30821884673750943,\n",
       " 0.3082132797189433,\n",
       " 0.3082142395569043]"
      ]
     },
     "execution_count": 44,
     "metadata": {},
     "output_type": "execute_result"
    }
   ],
   "source": [
    "la"
   ]
  },
  {
   "cell_type": "code",
   "execution_count": null,
   "metadata": {},
   "outputs": [],
   "source": []
  },
  {
   "cell_type": "code",
   "execution_count": null,
   "metadata": {},
   "outputs": [],
   "source": [
    "import cv2\n",
    "import numpy as np\n",
    "from sklearn import metrics\n",
    "import matplotlib.pyplot as plt\n",
    "\n",
    "fpr1, tpr1, thresholds1 = metrics.roc_curve(original_edges.ravel(), original_image_gray.ravel())\n",
    "fpr2, tpr2, thresholds2 = metrics.roc_curve(sharpened_edges.ravel(), img.ravel())\n",
    "\n",
    "# ROC Curve 그리기\n",
    "plt.plot(fpr1, tpr1, label='Original Edges')\n",
    "plt.plot(fpr2, tpr2, label='Sharpened Edges')\n",
    "plt.xlabel('False Positive Rate')\n",
    "plt.ylabel('True Positive Rate')\n",
    "plt.title('ROC Curve')\n",
    "plt.legend()\n",
    "plt.show()\n"
   ]
  }
 ],
 "metadata": {
  "kernelspec": {
   "display_name": "oliv",
   "language": "python",
   "name": "python3"
  },
  "language_info": {
   "codemirror_mode": {
    "name": "ipython",
    "version": 3
   },
   "file_extension": ".py",
   "mimetype": "text/x-python",
   "name": "python",
   "nbconvert_exporter": "python",
   "pygments_lexer": "ipython3",
   "version": "3.9.16"
  },
  "orig_nbformat": 4
 },
 "nbformat": 4,
 "nbformat_minor": 2
}
